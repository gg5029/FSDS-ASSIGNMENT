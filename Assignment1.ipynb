{
  "nbformat": 4,
  "nbformat_minor": 0,
  "metadata": {
    "colab": {
      "provenance": [],
      "collapsed_sections": []
    },
    "kernelspec": {
      "name": "python3",
      "display_name": "Python 3"
    },
    "language_info": {
      "name": "python"
    }
  },
  "cells": [
    {
      "cell_type": "markdown",
      "source": [
        "# 1. In the below elements which of them are values or an expression? eg:- values can be\n",
        "# integer or string and expressions will be mathematical operators."
      ],
      "metadata": {
        "id": "lBn_A3DIY-Lf"
      }
    },
    {
      "cell_type": "markdown",
      "source": [
        "ANS : VALUES: {-87.8,6,'hello'}\n",
        "\n",
        "      expression: {-, / ,+ ,*}"
      ],
      "metadata": {
        "id": "RGPiU6caZNff"
      }
    },
    {
      "cell_type": "markdown",
      "source": [
        "# 2. What is the difference between string and variable?"
      ],
      "metadata": {
        "id": "DLtvKyh-ZpJW"
      }
    },
    {
      "cell_type": "markdown",
      "source": [
        "ANS: Variables are symbols that you can use to store data in a program.String are data that we use in variables"
      ],
      "metadata": {
        "id": "qxvKLVhnZvkx"
      }
    },
    {
      "cell_type": "markdown",
      "source": [
        "# 3. Describe three different data types."
      ],
      "metadata": {
        "id": "uaNLzvSvaOGO"
      }
    },
    {
      "cell_type": "markdown",
      "source": [
        "String: combination of any characters \n",
        "\n",
        "integer: all whole numbers\n",
        "\n",
        "Boolean: true or false"
      ],
      "metadata": {
        "id": "3TPFRAMzaZAX"
      }
    },
    {
      "cell_type": "markdown",
      "source": [
        "# 4. What is an expression made up of? What do all expressions do?"
      ],
      "metadata": {
        "id": "TrBSjvK0bBTQ"
      }
    },
    {
      "cell_type": "markdown",
      "source": [
        "An expression is a combination of operators, constants and variables. An expression may consist of one or more operands, and zero or more operators to produce a value"
      ],
      "metadata": {
        "id": "dDUhAqQwbN4q"
      }
    },
    {
      "cell_type": "markdown",
      "source": [
        "# 5. This assignment statements, like spam = 10. What is the difference between an expression and a statement? "
      ],
      "metadata": {
        "id": "ZZtmQuvXbW9h"
      }
    },
    {
      "cell_type": "markdown",
      "source": [
        "An expression results to single value whereas statment does'nt"
      ],
      "metadata": {
        "id": "YZZaTdR8bpJ_"
      }
    },
    {
      "cell_type": "markdown",
      "source": [
        "# 6. After running the following code, what does the variable bacon contain?\n",
        "# bacon = 22\n",
        "# bacon + 1"
      ],
      "metadata": {
        "id": "KfIw5vP3cTmT"
      }
    },
    {
      "cell_type": "markdown",
      "source": [
        "bacon+1 expression does not reassign value in bacon for this we need too do bacon=bacon+1"
      ],
      "metadata": {
        "id": "AhNKaEOecfKf"
      }
    },
    {
      "cell_type": "code",
      "source": [
        "bacon=22\n",
        "bacon+1"
      ],
      "metadata": {
        "colab": {
          "base_uri": "https://localhost:8080/"
        },
        "id": "At8BvzHEco8S",
        "outputId": "cf93b1d7-0dc6-4743-cde1-2365c7b0946e"
      },
      "execution_count": 2,
      "outputs": [
        {
          "output_type": "execute_result",
          "data": {
            "text/plain": [
              "23"
            ]
          },
          "metadata": {},
          "execution_count": 2
        }
      ]
    },
    {
      "cell_type": "markdown",
      "source": [
        "# 7. What should the values of the following two terms be?\n",
        "# &#39;spam&#39; + &#39;spamspam&#39;\n",
        "# &#39;spam&#39; * 3"
      ],
      "metadata": {
        "id": "bDoPqGb-dl_H"
      }
    },
    {
      "cell_type": "code",
      "source": [
        "'spam'+'spamspam'"
      ],
      "metadata": {
        "colab": {
          "base_uri": "https://localhost:8080/",
          "height": 35
        },
        "id": "Vq0aqUT9eJY4",
        "outputId": "5f77023c-ab91-4b60-f36d-95b171c4c5e1"
      },
      "execution_count": 3,
      "outputs": [
        {
          "output_type": "execute_result",
          "data": {
            "text/plain": [
              "'spamspamspam'"
            ],
            "application/vnd.google.colaboratory.intrinsic+json": {
              "type": "string"
            }
          },
          "metadata": {},
          "execution_count": 3
        }
      ]
    },
    {
      "cell_type": "code",
      "source": [
        "'spam'*3"
      ],
      "metadata": {
        "colab": {
          "base_uri": "https://localhost:8080/",
          "height": 35
        },
        "id": "hiFoRrJ2eSLk",
        "outputId": "becc4efd-4ca7-4038-ff69-840a4d68e263"
      },
      "execution_count": 4,
      "outputs": [
        {
          "output_type": "execute_result",
          "data": {
            "text/plain": [
              "'spamspamspam'"
            ],
            "application/vnd.google.colaboratory.intrinsic+json": {
              "type": "string"
            }
          },
          "metadata": {},
          "execution_count": 4
        }
      ]
    },
    {
      "cell_type": "markdown",
      "source": [
        "# 8. Why is eggs a valid variable name while 100 is invalid?"
      ],
      "metadata": {
        "id": "DA-Y35FcfUP3"
      }
    },
    {
      "cell_type": "markdown",
      "source": [
        "variables name cannot begin with number"
      ],
      "metadata": {
        "id": "DwplV4xRfcRn"
      }
    },
    {
      "cell_type": "markdown",
      "source": [
        "# 9. What three functions can be used to get the integer, floating-point number, or string version of a value?"
      ],
      "metadata": {
        "id": "korERNe-fkq4"
      }
    },
    {
      "cell_type": "markdown",
      "source": [
        "The int() , float() , and str( ) functions will evaluate to the integer, floating-point number, and string versions of the value passed to them."
      ],
      "metadata": {
        "id": "NqNeBsJrfuoT"
      }
    },
    {
      "cell_type": "code",
      "source": [
        "x=int(3.4)\n",
        "y=float(4)\n",
        "z=str(4)\n",
        "print(f\"{x},{y},{z}\")"
      ],
      "metadata": {
        "colab": {
          "base_uri": "https://localhost:8080/"
        },
        "id": "-sbdv2LWf8Zf",
        "outputId": "834fd9d0-c13f-4e78-9431-c7a1ce3a2648"
      },
      "execution_count": 18,
      "outputs": [
        {
          "output_type": "stream",
          "name": "stdout",
          "text": [
            "3,4.0,4\n"
          ]
        }
      ]
    },
    {
      "cell_type": "markdown",
      "source": [
        "# 10. Why does this expression cause an error? How can you fix it?\n",
        "# &#39;I have eaten &#39; + 99 + &#39; burritos.&#39;"
      ],
      "metadata": {
        "id": "Iwq3GFOIhHQg"
      }
    },
    {
      "cell_type": "markdown",
      "source": [
        "'I have eaten' + '99' + 'burritos'"
      ],
      "metadata": {
        "id": "I6CrVZtnhN3F"
      }
    },
    {
      "cell_type": "code",
      "source": [
        "'I have eaten' + '99' +  \"burritos\""
      ],
      "metadata": {
        "colab": {
          "base_uri": "https://localhost:8080/",
          "height": 35
        },
        "id": "_V2b8Tyhhdl8",
        "outputId": "8d7c88bb-3938-43a7-92d6-0bbd924ba806"
      },
      "execution_count": 24,
      "outputs": [
        {
          "output_type": "execute_result",
          "data": {
            "text/plain": [
              "'I have eaten99burritos'"
            ],
            "application/vnd.google.colaboratory.intrinsic+json": {
              "type": "string"
            }
          },
          "metadata": {},
          "execution_count": 24
        }
      ]
    }
  ]
}