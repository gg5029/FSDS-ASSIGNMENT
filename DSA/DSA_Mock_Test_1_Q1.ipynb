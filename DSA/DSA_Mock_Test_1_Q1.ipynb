{
 "cells": [
  {
   "cell_type": "markdown",
   "id": "17495807",
   "metadata": {},
   "source": [
    "Given an integer array nums, move all 0's to the end of it while maintaining the relative order of the non-zero elements.<br>\n",
    "\n",
    "`Note` that you must do this in-place without making a copy of the array.<br>\n",
    "\n",
    "Example 1:<br>\n",
    "Input: nums = [0,1,0,3,12]<br>\n",
    "Output: [1,3,12,0,0]<br>\n",
    "\n",
    "Example 2:<br>\n",
    "Input: nums = [0]<br>\n",
    "Output: [0]"
   ]
  },
  {
   "cell_type": "code",
   "execution_count": 1,
   "id": "e1be3704",
   "metadata": {},
   "outputs": [
    {
     "data": {
      "text/plain": [
       "[1, 3, 12, 0, 0]"
      ]
     },
     "execution_count": 1,
     "metadata": {},
     "output_type": "execute_result"
    }
   ],
   "source": [
    "def MoveZero(nums):\n",
    "    n = len(nums)\n",
    "    left = 0\n",
    "    for right in range(n):\n",
    "        if nums[right] != 0:\n",
    "            nums[left], nums[right] = nums[right], nums[left]\n",
    "            left += 1\n",
    "    return nums\n",
    "\n",
    "\n",
    "MoveZero([0,1,0,3,12])"
   ]
  },
  {
   "cell_type": "code",
   "execution_count": null,
   "id": "6a0903f8",
   "metadata": {},
   "outputs": [],
   "source": []
  }
 ],
 "metadata": {
  "kernelspec": {
   "display_name": "Python 3 (ipykernel)",
   "language": "python",
   "name": "python3"
  },
  "language_info": {
   "codemirror_mode": {
    "name": "ipython",
    "version": 3
   },
   "file_extension": ".py",
   "mimetype": "text/x-python",
   "name": "python",
   "nbconvert_exporter": "python",
   "pygments_lexer": "ipython3",
   "version": "3.9.12"
  }
 },
 "nbformat": 4,
 "nbformat_minor": 5
}
