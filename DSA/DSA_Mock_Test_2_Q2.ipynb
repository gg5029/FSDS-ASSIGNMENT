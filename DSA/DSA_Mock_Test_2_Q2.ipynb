{
  "nbformat": 4,
  "nbformat_minor": 0,
  "metadata": {
    "colab": {
      "provenance": []
    },
    "kernelspec": {
      "name": "python3",
      "display_name": "Python 3"
    },
    "language_info": {
      "name": "python"
    }
  },
  "cells": [
    {
      "cell_type": "code",
      "execution_count": null,
      "metadata": {
        "id": "EBIMNBJU-v5y"
      },
      "outputs": [],
      "source": []
    },
    {
      "cell_type": "markdown",
      "source": [
        "\n",
        "You are given two non-empty linked lists representing two non-negative integers. The digits are stored in reverse order, and each of their nodes contains a single digit. Add the two numbers and return the sum as a linked list.\n",
        "\n",
        "\n",
        "You may assume the two numbers do not contain any leading zero, except the number 0 itself.\n",
        "\n",
        "\n",
        "Example 1:\n",
        "\n",
        "Input: l1 = [2,4,3], l2 = [5,6,4] Output: [7,0,8] Explanation: 342 + 465 = 807.\n",
        "\n",
        "\n",
        "Example 2:\n",
        "\n",
        "Input: l1 = [0], l2 = [0] Output: [0]\n",
        "\n",
        "\n",
        "Example 3:\n",
        "\n",
        "Input: l1 = [9,9,9,9,9,9,9], l2 = [9,9,9,9] Output: [8,9,9,9,0,0,0,1]\n",
        "\n",
        "\n",
        "Constraints:\n",
        "The number of nodes in each linked list is in the range [1, 100]. 0 <= Node.val <= 9 It is guaranteed that the list represents a number that does not have leading zeros."
      ],
      "metadata": {
        "id": "17Yn0Vw8JD3A"
      }
    },
    {
      "cell_type": "code",
      "source": [
        "class ListNode:\n",
        "    def __init__(self, x):\n",
        "        self.val = x\n",
        "        self.next = None\n",
        "\n",
        "def addTwoNumbers(l1, l2):\n",
        "    dummy = ListNode(0)\n",
        "    curr = dummy\n",
        "    carry = 0\n",
        "    while l1 or l2 or carry:\n",
        "        x = l1.val if l1 else 0\n",
        "        y = l2.val if l2 else 0\n",
        "        total = x + y + carry\n",
        "        carry = total // 10\n",
        "        curr.next = ListNode(total % 10)\n",
        "        if l1:\n",
        "            l1 = l1.next\n",
        "        if l2:\n",
        "            l2 = l2.next\n",
        "        curr = curr.next\n",
        "    return dummy.next"
      ],
      "metadata": {
        "id": "zO77tLxLJGYI"
      },
      "execution_count": null,
      "outputs": []
    },
    {
      "cell_type": "code",
      "source": [
        "l1 = ListNode(0)\n",
        "\n",
        "l2 = ListNode(0)\n",
        "\n",
        "result = addTwoNumbers(l1, l2)\n",
        "current = result\n",
        "while current is not None:\n",
        "    print(current.val, end=\" \")\n",
        "    current = current.next"
      ],
      "metadata": {
        "colab": {
          "base_uri": "https://localhost:8080/"
        },
        "id": "EnSfGaaTJ3Ke",
        "outputId": "058a9d63-cddd-4d77-9def-eee1169c1298"
      },
      "execution_count": null,
      "outputs": [
        {
          "output_type": "stream",
          "name": "stdout",
          "text": [
            "0 "
          ]
        }
      ]
    },
    {
      "cell_type": "code",
      "source": [
        "l1 = ListNode(2)\n",
        "l1.next = ListNode(4)\n",
        "l1.next.next = ListNode(3)\n",
        "\n",
        "l2 = ListNode(5)\n",
        "l2.next = ListNode(6)\n",
        "l2.next.next = ListNode(4)\n",
        "\n",
        "result = addTwoNumbers(l1, l2)\n",
        "current = result\n",
        "while current is not None:\n",
        "    print(current.val, end=\" \")\n",
        "    current = current.next"
      ],
      "metadata": {
        "colab": {
          "base_uri": "https://localhost:8080/"
        },
        "id": "XHLmKG10J7bq",
        "outputId": "8df1e76b-1f31-413c-a130-fda4130c1361"
      },
      "execution_count": null,
      "outputs": [
        {
          "output_type": "stream",
          "name": "stdout",
          "text": [
            "7 0 8 "
          ]
        }
      ]
    },
    {
      "cell_type": "code",
      "source": [
        "l1 = ListNode(9)\n",
        "l1.next = ListNode(9)\n",
        "l1.next.next = ListNode(9)\n",
        "l1.next.next.next = ListNode(9)\n",
        "l1.next.next.next.next = ListNode(9)\n",
        "l1.next.next.next.next.next = ListNode(9)\n",
        "l1.next.next.next.next.next.next = ListNode(9)\n",
        "\n",
        "l2 = ListNode(9)\n",
        "l2.next = ListNode(9)\n",
        "l2.next.next = ListNode(9)\n",
        "l2.next.next.next = ListNode(9)\n",
        "\n",
        "result = addTwoNumbers(l1, l2)\n",
        "current = result\n",
        "while current is not None:\n",
        "    print(current.val, end=\" \")\n",
        "    current = current.next"
      ],
      "metadata": {
        "id": "aNXVvYaaKAQI",
        "outputId": "c37db4f3-41a0-4270-a777-b0cedfb55ec1",
        "colab": {
          "base_uri": "https://localhost:8080/"
        }
      },
      "execution_count": null,
      "outputs": [
        {
          "output_type": "stream",
          "name": "stdout",
          "text": [
            "8 9 9 9 0 0 0 1 "
          ]
        }
      ]
    }
  ]
}