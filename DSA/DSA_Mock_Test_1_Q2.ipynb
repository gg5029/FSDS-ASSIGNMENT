{
 "cells": [
  {
   "cell_type": "markdown",
   "id": "af67e198",
   "metadata": {},
   "source": [
    "Given a string s, find the first non-repeating character in it and return its index. If it does not exist, return -1.<br>\n",
    "Example 1:<br>\n",
    "Input: s = \"leetcode\"<br>\n",
    "Output: 0<br>\n",
    "\n",
    "Example 2:<br>\n",
    "Input: s = \"loveleetcode\"<br>\n",
    "Output: 2<br>\n",
    "\n",
    "Example 3:<br>\n",
    "Input: s = \"aabb\"<br>\n",
    "Output: -1"
   ]
  },
  {
   "cell_type": "code",
   "execution_count": 1,
   "id": "247a2367",
   "metadata": {},
   "outputs": [
    {
     "data": {
      "text/plain": [
       "0"
      ]
     },
     "execution_count": 1,
     "metadata": {},
     "output_type": "execute_result"
    }
   ],
   "source": [
    "def firstUniqChar(s):\n",
    "    char_count = {}\n",
    "    for i, char in enumerate(s):\n",
    "        if char not in char_count:\n",
    "            char_count[char] = [0, i]\n",
    "        char_count[char][0] += 1\n",
    "    for char, count_index in char_count.items():\n",
    "        if count_index[0] == 1:\n",
    "            return count_index[1]\n",
    "    return -1\n",
    "\n",
    "firstUniqChar(\"intekhab\")"
   ]
  },
  {
   "cell_type": "code",
   "execution_count": null,
   "id": "04f45d30",
   "metadata": {},
   "outputs": [],
   "source": []
  }
 ],
 "metadata": {
  "kernelspec": {
   "display_name": "Python 3 (ipykernel)",
   "language": "python",
   "name": "python3"
  },
  "language_info": {
   "codemirror_mode": {
    "name": "ipython",
    "version": 3
   },
   "file_extension": ".py",
   "mimetype": "text/x-python",
   "name": "python",
   "nbconvert_exporter": "python",
   "pygments_lexer": "ipython3",
   "version": "3.9.12"
  }
 },
 "nbformat": 4,
 "nbformat_minor": 5
}
